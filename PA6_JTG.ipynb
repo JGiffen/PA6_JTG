{
 "cells": [
  {
   "cell_type": "markdown",
   "id": "e9af8446",
   "metadata": {},
   "source": [
    "# Programming Assignment 6, Writing Functions\n",
    "## CS-150-01\n",
    "## Jeremy Giffen"
   ]
  },
  {
   "cell_type": "markdown",
   "id": "1d85c478",
   "metadata": {},
   "source": [
    "### Task1: Write a Python program will calculate the area and perimeter of a triangle using two different functions named calcArea() and calcPerimeter(). "
   ]
  },
  {
   "cell_type": "code",
   "execution_count": 6,
   "id": "b4fe4264",
   "metadata": {},
   "outputs": [
    {
     "name": "stdout",
     "output_type": "stream",
     "text": [
      "Enter the length of side A: 12\n",
      "Enter the length of side B: 12\n",
      "Enter the length of side C: 12\n",
      "The area of the triangle is approximately 62.353829 square units.\n",
      "The perimeter of the triangle is 36.0 linear units.\n"
     ]
    },
    {
     "ename": "KeyboardInterrupt",
     "evalue": "Interrupted by user",
     "output_type": "error",
     "traceback": [
      "\u001b[0;31m---------------------------------------------------------------------------\u001b[0m",
      "\u001b[0;31mKeyboardInterrupt\u001b[0m                         Traceback (most recent call last)",
      "Cell \u001b[0;32mIn[6], line 10\u001b[0m\n\u001b[1;32m      8\u001b[0m     \u001b[38;5;28;01mreturn\u001b[39;00m perimeter\n\u001b[1;32m      9\u001b[0m \u001b[38;5;28;01mwhile\u001b[39;00m \u001b[38;5;28;01mTrue\u001b[39;00m:\n\u001b[0;32m---> 10\u001b[0m     side_a \u001b[38;5;241m=\u001b[39m \u001b[38;5;28minput\u001b[39m(\u001b[38;5;124m\"\u001b[39m\u001b[38;5;124mEnter the length of side A: \u001b[39m\u001b[38;5;124m\"\u001b[39m)\n\u001b[1;32m     11\u001b[0m     side_b \u001b[38;5;241m=\u001b[39m \u001b[38;5;28minput\u001b[39m(\u001b[38;5;124m\"\u001b[39m\u001b[38;5;124mEnter the length of side B: \u001b[39m\u001b[38;5;124m\"\u001b[39m)\n\u001b[1;32m     12\u001b[0m     side_c \u001b[38;5;241m=\u001b[39m \u001b[38;5;28minput\u001b[39m(\u001b[38;5;124m\"\u001b[39m\u001b[38;5;124mEnter the length of side C: \u001b[39m\u001b[38;5;124m\"\u001b[39m)\n",
      "File \u001b[0;32m~/anaconda3/lib/python3.11/site-packages/ipykernel/kernelbase.py:1175\u001b[0m, in \u001b[0;36mKernel.raw_input\u001b[0;34m(self, prompt)\u001b[0m\n\u001b[1;32m   1171\u001b[0m \u001b[38;5;28;01mif\u001b[39;00m \u001b[38;5;129;01mnot\u001b[39;00m \u001b[38;5;28mself\u001b[39m\u001b[38;5;241m.\u001b[39m_allow_stdin:\n\u001b[1;32m   1172\u001b[0m     \u001b[38;5;28;01mraise\u001b[39;00m StdinNotImplementedError(\n\u001b[1;32m   1173\u001b[0m         \u001b[38;5;124m\"\u001b[39m\u001b[38;5;124mraw_input was called, but this frontend does not support input requests.\u001b[39m\u001b[38;5;124m\"\u001b[39m\n\u001b[1;32m   1174\u001b[0m     )\n\u001b[0;32m-> 1175\u001b[0m \u001b[38;5;28;01mreturn\u001b[39;00m \u001b[38;5;28mself\u001b[39m\u001b[38;5;241m.\u001b[39m_input_request(\n\u001b[1;32m   1176\u001b[0m     \u001b[38;5;28mstr\u001b[39m(prompt),\n\u001b[1;32m   1177\u001b[0m     \u001b[38;5;28mself\u001b[39m\u001b[38;5;241m.\u001b[39m_parent_ident[\u001b[38;5;124m\"\u001b[39m\u001b[38;5;124mshell\u001b[39m\u001b[38;5;124m\"\u001b[39m],\n\u001b[1;32m   1178\u001b[0m     \u001b[38;5;28mself\u001b[39m\u001b[38;5;241m.\u001b[39mget_parent(\u001b[38;5;124m\"\u001b[39m\u001b[38;5;124mshell\u001b[39m\u001b[38;5;124m\"\u001b[39m),\n\u001b[1;32m   1179\u001b[0m     password\u001b[38;5;241m=\u001b[39m\u001b[38;5;28;01mFalse\u001b[39;00m,\n\u001b[1;32m   1180\u001b[0m )\n",
      "File \u001b[0;32m~/anaconda3/lib/python3.11/site-packages/ipykernel/kernelbase.py:1217\u001b[0m, in \u001b[0;36mKernel._input_request\u001b[0;34m(self, prompt, ident, parent, password)\u001b[0m\n\u001b[1;32m   1214\u001b[0m             \u001b[38;5;28;01mbreak\u001b[39;00m\n\u001b[1;32m   1215\u001b[0m \u001b[38;5;28;01mexcept\u001b[39;00m \u001b[38;5;167;01mKeyboardInterrupt\u001b[39;00m:\n\u001b[1;32m   1216\u001b[0m     \u001b[38;5;66;03m# re-raise KeyboardInterrupt, to truncate traceback\u001b[39;00m\n\u001b[0;32m-> 1217\u001b[0m     \u001b[38;5;28;01mraise\u001b[39;00m \u001b[38;5;167;01mKeyboardInterrupt\u001b[39;00m(\u001b[38;5;124m\"\u001b[39m\u001b[38;5;124mInterrupted by user\u001b[39m\u001b[38;5;124m\"\u001b[39m) \u001b[38;5;28;01mfrom\u001b[39;00m \u001b[38;5;28;01mNone\u001b[39;00m\n\u001b[1;32m   1218\u001b[0m \u001b[38;5;28;01mexcept\u001b[39;00m \u001b[38;5;167;01mException\u001b[39;00m:\n\u001b[1;32m   1219\u001b[0m     \u001b[38;5;28mself\u001b[39m\u001b[38;5;241m.\u001b[39mlog\u001b[38;5;241m.\u001b[39mwarning(\u001b[38;5;124m\"\u001b[39m\u001b[38;5;124mInvalid Message:\u001b[39m\u001b[38;5;124m\"\u001b[39m, exc_info\u001b[38;5;241m=\u001b[39m\u001b[38;5;28;01mTrue\u001b[39;00m)\n",
      "\u001b[0;31mKeyboardInterrupt\u001b[0m: Interrupted by user"
     ]
    }
   ],
   "source": [
    "import math\n",
    "def calcArea(side_a=1, side_b=1, side_c=1):\n",
    "    s = (side_a + side_b + side_c) / 2\n",
    "    area = math.sqrt(s * (s - side_a) * (s - side_b) * (s - side_c))\n",
    "    return area\n",
    "def calcPerimeter(side_a=1, side_b=1, side_c=1):\n",
    "    perimeter = side_a + side_b + side_c\n",
    "    return perimeter\n",
    "while True:\n",
    "    side_a = input(\"Enter the length of side A: \")\n",
    "    side_b = input(\"Enter the length of side B: \")\n",
    "    side_c = input(\"Enter the length of side C: \")\n",
    "    if side_a.isnumeric() and side_b.isnumeric() and side_c.isnumeric():\n",
    "        side_a = float(side_a)\n",
    "        side_b = float(side_b)\n",
    "        side_c = float(side_c)\n",
    "    else:\n",
    "        print(\"Invalid input. Please enter valid numeric values.\")\n",
    "        continue\n",
    "    area = calcArea(side_a, side_b, side_c)\n",
    "    perimeter = calcPerimeter(side_a, side_b, side_c)\n",
    "    print(f\"The area of the triangle is approximately {area:.6f} square units.\")\n",
    "    print(f\"The perimeter of the triangle is {perimeter} linear units.\")\n"
   ]
  },
  {
   "cell_type": "markdown",
   "id": "a8d31af1",
   "metadata": {},
   "source": [
    "### Task2: Write a Python program to play “Guess the Number”. "
   ]
  },
  {
   "cell_type": "code",
   "execution_count": 7,
   "id": "93c9a7cc",
   "metadata": {},
   "outputs": [
    {
     "name": "stdout",
     "output_type": "stream",
     "text": [
      "Enter your guess: 24\n",
      "Too low! Guess again\n",
      "Enter your guess: 900\n",
      "Too high! Guess again\n",
      "Enter your guess: 500\n",
      "Too high! Guess again\n",
      "Enter your guess: 200\n",
      "Too high! Guess again\n",
      "Enter your guess: 100\n",
      "Too low! Guess again\n",
      "Enter your guess: 150\n",
      "Too low! Guess again\n",
      "Enter your guess: 175\n",
      "Too low! Guess again\n",
      "Enter your guess: 190\n",
      "Too low! Guess again\n",
      "Enter your guess: 195\n",
      "Too high! Guess again\n",
      "Enter your guess: 194\n",
      "Too high! Guess again\n",
      "Enter your guess: 192\n",
      "Too low! Guess again\n",
      "Enter your guess: 193\n",
      "Correct!\n"
     ]
    }
   ],
   "source": [
    "import random\n",
    "def evaluateGuess(guess, target):\n",
    "    if guess < target:\n",
    "        return \"Too low! Guess again\"\n",
    "    elif guess > target:\n",
    "        return \"Too high! Guess again\"\n",
    "    else:\n",
    "        return \"Correct!\"\n",
    "target_number = random.randint(1, 1000)\n",
    "while True:\n",
    "    try:\n",
    "        user_guess = int(input(\"Enter your guess: \"))\n",
    "    except ValueError:\n",
    "        print(\"Invalid input. Please enter a valid number.\")\n",
    "        continue\n",
    "    result = evaluateGuess(user_guess, target_number)\n",
    "    print(result)\n",
    "    if result == \"Correct!\":\n",
    "        break"
   ]
  },
  {
   "cell_type": "markdown",
   "id": "68299b37",
   "metadata": {},
   "source": [
    "### Task3: Write a Python program to calculate the mean temperature over a set of Fahrenheit temperature values."
   ]
  },
  {
   "cell_type": "code",
   "execution_count": 8,
   "id": "9b391196",
   "metadata": {},
   "outputs": [
    {
     "name": "stdout",
     "output_type": "stream",
     "text": [
      "The mean temperature for the past 7 days is 88.14 degrees F.\n",
      "The mean temperature for the past 5 days is 88.00 degrees F.\n",
      "The mean temperature for the past 2 days is 90.00 degrees F.\n"
     ]
    }
   ],
   "source": [
    "def meanTemp(*temperatures):\n",
    "    num_days = len(temperatures)\n",
    "    if num_days == 0:\n",
    "        return \"No temperatures provided.\"\n",
    "    total_temp = sum(temperatures)\n",
    "    mean = total_temp / num_days\n",
    "    return f\"The mean temperature for the past {num_days} days is {mean:.2f} degrees F.\"\n",
    "print(meanTemp(88, 90, 85, 87, 89, 91, 87))\n",
    "print(meanTemp(88, 87, 85, 89, 91))       \n",
    "print(meanTemp(90, 90))                    "
   ]
  },
  {
   "cell_type": "code",
   "execution_count": null,
   "id": "df225204",
   "metadata": {},
   "outputs": [],
   "source": []
  }
 ],
 "metadata": {
  "kernelspec": {
   "display_name": "Python 3 (ipykernel)",
   "language": "python",
   "name": "python3"
  },
  "language_info": {
   "codemirror_mode": {
    "name": "ipython",
    "version": 3
   },
   "file_extension": ".py",
   "mimetype": "text/x-python",
   "name": "python",
   "nbconvert_exporter": "python",
   "pygments_lexer": "ipython3",
   "version": "3.11.4"
  }
 },
 "nbformat": 4,
 "nbformat_minor": 5
}
